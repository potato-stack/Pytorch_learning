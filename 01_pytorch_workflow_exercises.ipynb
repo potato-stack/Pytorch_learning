{
  "cells": [
    {
      "cell_type": "markdown",
      "metadata": {
        "colab_type": "text",
        "id": "view-in-github"
      },
      "source": [
        "<a href=\"https://colab.research.google.com/github/mrdbourke/pytorch-deep-learning/blob/main/extras/exercises/01_pytorch_workflow_exercises.ipynb\" target=\"_parent\"><img src=\"https://colab.research.google.com/assets/colab-badge.svg\" alt=\"Open In Colab\"/></a>"
      ]
    },
    {
      "cell_type": "markdown",
      "metadata": {
        "id": "N8LsPXZti9Sw"
      },
      "source": [
        "# 01. PyTorch Workflow Exercise Template\n",
        "\n",
        "The following is a template for the PyTorch workflow exercises.\n",
        "\n",
        "It's only starter code and it's your job to fill in the blanks.\n",
        "\n",
        "Because of the flexibility of PyTorch, there may be more than one way to answer the question.\n",
        "\n",
        "Don't worry about trying to be *right* just try writing code that suffices the question.\n",
        "\n",
        "You can see one form of [solutions on GitHub](https://github.com/mrdbourke/pytorch-deep-learning/tree/main/extras/solutions) (but try the exercises below yourself first!)."
      ]
    },
    {
      "cell_type": "code",
      "execution_count": 28,
      "metadata": {
        "id": "Glu2fM4dkNlx"
      },
      "outputs": [],
      "source": [
        "# Import necessary libraries\n",
        "import torch\n",
        "from torch import nn\n",
        "import numpy as np \n",
        "import matplotlib.pyplot as plt"
      ]
    },
    {
      "cell_type": "code",
      "execution_count": 2,
      "metadata": {
        "id": "LqKhXY26m31s"
      },
      "outputs": [
        {
          "name": "stdout",
          "output_type": "stream",
          "text": [
            "Currently using device: cuda\n"
          ]
        }
      ],
      "source": [
        "# Setup device-agnostic code\n",
        "\n",
        "device = \"cuda\" if torch.cuda.is_available() else \"cpu\"\n",
        "print(f\"Currently using device: {device}\")"
      ]
    },
    {
      "cell_type": "markdown",
      "metadata": {
        "id": "g7HUhxCxjeBx"
      },
      "source": [
        "## 1. Create a straight line dataset using the linear regression formula (`weight * X + bias`).\n",
        "  * Set `weight=0.3` and `bias=0.9` there should be at least 100 datapoints total. \n",
        "  * Split the data into 80% training, 20% testing.\n",
        "  * Plot the training and testing data so it becomes visual.\n",
        "\n",
        "Your output of the below cell should look something like:\n",
        "```\n",
        "Number of X samples: 100\n",
        "Number of y samples: 100\n",
        "First 10 X & y samples:\n",
        "X: tensor([0.0000, 0.0100, 0.0200, 0.0300, 0.0400, 0.0500, 0.0600, 0.0700, 0.0800,\n",
        "        0.0900])\n",
        "y: tensor([0.9000, 0.9030, 0.9060, 0.9090, 0.9120, 0.9150, 0.9180, 0.9210, 0.9240,\n",
        "        0.9270])\n",
        "```\n",
        "\n",
        "Of course the numbers in `X` and `y` may be different but ideally they're created using the linear regression formula."
      ]
    },
    {
      "cell_type": "code",
      "execution_count": 9,
      "metadata": {
        "id": "KbDG5MV7jhvE"
      },
      "outputs": [
        {
          "name": "stdout",
          "output_type": "stream",
          "text": [
            "tensor([[0.9000],\n",
            "        [0.9030],\n",
            "        [0.9060],\n",
            "        [0.9090],\n",
            "        [0.9120],\n",
            "        [0.9150],\n",
            "        [0.9180],\n",
            "        [0.9210],\n",
            "        [0.9240],\n",
            "        [0.9270],\n",
            "        [0.9300],\n",
            "        [0.9330],\n",
            "        [0.9360],\n",
            "        [0.9390],\n",
            "        [0.9420],\n",
            "        [0.9450],\n",
            "        [0.9480],\n",
            "        [0.9510],\n",
            "        [0.9540],\n",
            "        [0.9570],\n",
            "        [0.9600],\n",
            "        [0.9630],\n",
            "        [0.9660],\n",
            "        [0.9690],\n",
            "        [0.9720],\n",
            "        [0.9750],\n",
            "        [0.9780],\n",
            "        [0.9810],\n",
            "        [0.9840],\n",
            "        [0.9870],\n",
            "        [0.9900],\n",
            "        [0.9930],\n",
            "        [0.9960],\n",
            "        [0.9990],\n",
            "        [1.0020],\n",
            "        [1.0050],\n",
            "        [1.0080],\n",
            "        [1.0110],\n",
            "        [1.0140],\n",
            "        [1.0170],\n",
            "        [1.0200],\n",
            "        [1.0230],\n",
            "        [1.0260],\n",
            "        [1.0290],\n",
            "        [1.0320],\n",
            "        [1.0350],\n",
            "        [1.0380],\n",
            "        [1.0410],\n",
            "        [1.0440],\n",
            "        [1.0470],\n",
            "        [1.0500],\n",
            "        [1.0530],\n",
            "        [1.0560],\n",
            "        [1.0590],\n",
            "        [1.0620],\n",
            "        [1.0650],\n",
            "        [1.0680],\n",
            "        [1.0710],\n",
            "        [1.0740],\n",
            "        [1.0770],\n",
            "        [1.0800],\n",
            "        [1.0830],\n",
            "        [1.0860],\n",
            "        [1.0890],\n",
            "        [1.0920],\n",
            "        [1.0950],\n",
            "        [1.0980],\n",
            "        [1.1010],\n",
            "        [1.1040],\n",
            "        [1.1070],\n",
            "        [1.1100],\n",
            "        [1.1130],\n",
            "        [1.1160],\n",
            "        [1.1190],\n",
            "        [1.1220],\n",
            "        [1.1250],\n",
            "        [1.1280],\n",
            "        [1.1310],\n",
            "        [1.1340],\n",
            "        [1.1370],\n",
            "        [1.1400],\n",
            "        [1.1430],\n",
            "        [1.1460],\n",
            "        [1.1490],\n",
            "        [1.1520],\n",
            "        [1.1550],\n",
            "        [1.1580],\n",
            "        [1.1610],\n",
            "        [1.1640],\n",
            "        [1.1670],\n",
            "        [1.1700],\n",
            "        [1.1730],\n",
            "        [1.1760],\n",
            "        [1.1790],\n",
            "        [1.1820],\n",
            "        [1.1850],\n",
            "        [1.1880],\n",
            "        [1.1910],\n",
            "        [1.1940],\n",
            "        [1.1970]])\n",
            "Number of X samples: 100\n",
            "Number of y samples: 100\n",
            "First 10 X & y samples:\n",
            "X: tensor([[0.0000],\n",
            "        [0.0100],\n",
            "        [0.0200],\n",
            "        [0.0300],\n",
            "        [0.0400],\n",
            "        [0.0500],\n",
            "        [0.0600],\n",
            "        [0.0700],\n",
            "        [0.0800],\n",
            "        [0.0900]])\n",
            "y: tensor([[0.9000],\n",
            "        [0.9030],\n",
            "        [0.9060],\n",
            "        [0.9090],\n",
            "        [0.9120],\n",
            "        [0.9150],\n",
            "        [0.9180],\n",
            "        [0.9210],\n",
            "        [0.9240],\n",
            "        [0.9270]])\n"
          ]
        }
      ],
      "source": [
        "# Create the data parameters\n",
        "weight = 0.3 \n",
        "bias = 0.9\n",
        "\n",
        "split = 0.8 \n",
        "sample = 100\n",
        "\n",
        "# Make X and y using linear regression feature\n",
        "X = torch.arange(start=0, end=1, step=1/sample, dtype=torch.float).unsqueeze(dim=1)\n",
        "y = X * weight + bias\n",
        "print(y)\n",
        "\n",
        "\n",
        "print(f\"Number of X samples: {len(X)}\")\n",
        "print(f\"Number of y samples: {len(y)}\")\n",
        "print(f\"First 10 X & y samples:\\nX: {X[:10]}\\ny: {y[:10]}\")"
      ]
    },
    {
      "cell_type": "code",
      "execution_count": 23,
      "metadata": {
        "id": "GlwtT1djkmLw"
      },
      "outputs": [
        {
          "name": "stdout",
          "output_type": "stream",
          "text": [
            "tensor([[0.0000],\n",
            "        [0.0100],\n",
            "        [0.0200],\n",
            "        [0.0300],\n",
            "        [0.0400],\n",
            "        [0.0500],\n",
            "        [0.0600],\n",
            "        [0.0700],\n",
            "        [0.0800],\n",
            "        [0.0900],\n",
            "        [0.1000],\n",
            "        [0.1100],\n",
            "        [0.1200],\n",
            "        [0.1300],\n",
            "        [0.1400],\n",
            "        [0.1500],\n",
            "        [0.1600],\n",
            "        [0.1700],\n",
            "        [0.1800],\n",
            "        [0.1900],\n",
            "        [0.2000],\n",
            "        [0.2100],\n",
            "        [0.2200],\n",
            "        [0.2300],\n",
            "        [0.2400],\n",
            "        [0.2500],\n",
            "        [0.2600],\n",
            "        [0.2700],\n",
            "        [0.2800],\n",
            "        [0.2900],\n",
            "        [0.3000],\n",
            "        [0.3100],\n",
            "        [0.3200],\n",
            "        [0.3300],\n",
            "        [0.3400],\n",
            "        [0.3500],\n",
            "        [0.3600],\n",
            "        [0.3700],\n",
            "        [0.3800],\n",
            "        [0.3900],\n",
            "        [0.4000],\n",
            "        [0.4100],\n",
            "        [0.4200],\n",
            "        [0.4300],\n",
            "        [0.4400],\n",
            "        [0.4500],\n",
            "        [0.4600],\n",
            "        [0.4700],\n",
            "        [0.4800],\n",
            "        [0.4900],\n",
            "        [0.5000],\n",
            "        [0.5100],\n",
            "        [0.5200],\n",
            "        [0.5300],\n",
            "        [0.5400],\n",
            "        [0.5500],\n",
            "        [0.5600],\n",
            "        [0.5700],\n",
            "        [0.5800],\n",
            "        [0.5900],\n",
            "        [0.6000],\n",
            "        [0.6100],\n",
            "        [0.6200],\n",
            "        [0.6300],\n",
            "        [0.6400],\n",
            "        [0.6500],\n",
            "        [0.6600],\n",
            "        [0.6700],\n",
            "        [0.6800],\n",
            "        [0.6900],\n",
            "        [0.7000],\n",
            "        [0.7100],\n",
            "        [0.7200],\n",
            "        [0.7300],\n",
            "        [0.7400],\n",
            "        [0.7500],\n",
            "        [0.7600],\n",
            "        [0.7700],\n",
            "        [0.7800],\n",
            "        [0.7900]])\n",
            "tensor([[0.8000],\n",
            "        [0.8100],\n",
            "        [0.8200],\n",
            "        [0.8300],\n",
            "        [0.8400],\n",
            "        [0.8500],\n",
            "        [0.8600],\n",
            "        [0.8700],\n",
            "        [0.8800],\n",
            "        [0.8900],\n",
            "        [0.9000],\n",
            "        [0.9100],\n",
            "        [0.9200],\n",
            "        [0.9300],\n",
            "        [0.9400],\n",
            "        [0.9500],\n",
            "        [0.9600],\n",
            "        [0.9700],\n",
            "        [0.9800],\n",
            "        [0.9900]])\n"
          ]
        }
      ],
      "source": [
        "# Split the data into training and testing\n",
        "length = int(split*len(X))\n",
        "X_train = X[:length]\n",
        "y_train = y[:length]\n",
        "X_test = X[length:] \n",
        "y_test = y[length:]\n",
        "print(X_train)\n",
        "print(X_test)\n"
      ]
    },
    {
      "cell_type": "code",
      "execution_count": 60,
      "metadata": {
        "id": "29iQZFNhlYJ-"
      },
      "outputs": [
        {
          "data": {
            "image/png": "[encoded data removed]",
            "text/plain": [
              "<Figure size 1200x700 with 1 Axes>"
            ]
          },
          "metadata": {},
          "output_type": "display_data"
        }
      ],
      "source": [
        "# Plot the training and testing data \n",
        "def plot_data(X_train = X_train,\n",
        "              X_test = X_test, \n",
        "              Y_train = y_train, \n",
        "              Y_test = y_test, \n",
        "              prediction = None):\n",
        "    \n",
        "\tplt.figure(figsize=(12, 7))\n",
        "\tplt.scatter(X_train, Y_train, c=\"b\", s=5, label=\"Train data\")\n",
        "\tplt.scatter(X_test, Y_test, c=\"g\", s=5, label=\"Test data\")\n",
        "\tif prediction is not None:\n",
        "\t\tplt.scatter(X_test, prediction.to(\"cpu\"), c=\"r\", s=5, label=\"Prediction\")\n",
        "\n",
        "\tplt.legend(prop={\"size\": 14})\n",
        "\n",
        "plot_data()"
      ]
    },
    {
      "cell_type": "markdown",
      "metadata": {
        "id": "ImZoe3v8jif8"
      },
      "source": [
        "## 2. Build a PyTorch model by subclassing `nn.Module`. \n",
        "  * Inside should be a randomly initialized `nn.Parameter()` with `requires_grad=True`, one for `weights` and one for `bias`. \n",
        "  * Implement the `forward()` method to compute the linear regression function you used to create the dataset in 1. \n",
        "  * Once you've constructed the model, make an instance of it and check its `state_dict()`.\n",
        "  * **Note:** If you'd like to use `nn.Linear()` instead of `nn.Parameter()` you can."
      ]
    },
    {
      "cell_type": "code",
      "execution_count": 48,
      "metadata": {
        "id": "qzd__Y5rjtB8"
      },
      "outputs": [
        {
          "data": {
            "text/plain": [
              "[Parameter containing:\n",
              " tensor([0.3076], requires_grad=True),\n",
              " Parameter containing:\n",
              " tensor([0.4583], requires_grad=True)]"
            ]
          },
          "execution_count": 48,
          "metadata": {},
          "output_type": "execute_result"
        }
      ],
      "source": [
        "import torch \n",
        "from torch import nn\n",
        "# Create PyTorch linear regression model by subclassing nn.Module\n",
        "class linearRegressionModel(nn.Module):\n",
        "    def __init__(self):\n",
        "        # using supper() function to basically called for the the nn.Module base class\n",
        "        super().__init__() \n",
        "        self.weight = nn.Parameter(torch.rand(1, dtype=torch.float, requires_grad=True)) \n",
        "        self.bias = nn.Parameter(torch.rand(1, dtype=torch.float, requires_grad=True))\n",
        "        \n",
        "    def forward(self, input: torch.tensor) -> torch.tensor:\n",
        "        return input * self.weight + self.bias\n",
        "\n"
      ]
    },
    {
      "cell_type": "code",
      "execution_count": 49,
      "metadata": {
        "id": "5LdcDnmOmyQ2"
      },
      "outputs": [
        {
          "data": {
            "text/plain": [
              "[Parameter containing:\n",
              " tensor([0.6813], device='cuda:0', requires_grad=True),\n",
              " Parameter containing:\n",
              " tensor([0.9449], device='cuda:0', requires_grad=True)]"
            ]
          },
          "execution_count": 49,
          "metadata": {},
          "output_type": "execute_result"
        }
      ],
      "source": [
        "# Instantiate the model and put it to the target device\n",
        "model = linearRegressionModel().to(device)\n",
        "list(model.parameters())"
      ]
    },
    {
      "cell_type": "markdown",
      "metadata": {
        "id": "G6nYOrJhjtfu"
      },
      "source": [
        "## 3. Create a loss function and optimizer using `nn.L1Loss()` and `torch.optim.SGD(params, lr)` respectively. \n",
        "  * Set the learning rate of the optimizer to be 0.01 and the parameters to optimize should be the model parameters from the model you created in 2.\n",
        "  * Write a training loop to perform the appropriate training steps for 300 epochs.\n",
        "  * The training loop should test the model on the test dataset every 20 epochs."
      ]
    },
    {
      "cell_type": "code",
      "execution_count": 61,
      "metadata": {
        "id": "ltvoZ-FWjv1j"
      },
      "outputs": [],
      "source": [
        "# Create the loss function and optimizer\n",
        "loss_fn = nn.L1Loss()\n",
        "# The optimizer will be use for \n",
        "# * The model parameter\n",
        "# * with the config of lr = 0.001, etc ... \n",
        "optimizer = torch.optim.SGD(params = model.parameters(), lr = 0.01)"
      ]
    },
    {
      "cell_type": "code",
      "execution_count": 62,
      "metadata": {
        "id": "xpE83NvNnkdV"
      },
      "outputs": [
        {
          "name": "stdout",
          "output_type": "stream",
          "text": [
            "Epoch: 0 | Train loss: 0.057 | Test loss: 0.146\n",
            "Epoch: 20 | Train loss: 0.049 | Test loss: 0.116\n",
            "Epoch: 40 | Train loss: 0.042 | Test loss: 0.099\n",
            "Epoch: 60 | Train loss: 0.035 | Test loss: 0.083\n",
            "Epoch: 80 | Train loss: 0.028 | Test loss: 0.067\n",
            "Epoch: 100 | Train loss: 0.022 | Test loss: 0.050\n",
            "Epoch: 120 | Train loss: 0.015 | Test loss: 0.034\n",
            "Epoch: 140 | Train loss: 0.008 | Test loss: 0.018\n",
            "Epoch: 160 | Train loss: 0.002 | Test loss: 0.010\n",
            "Epoch: 180 | Train loss: 0.005 | Test loss: 0.010\n",
            "Epoch: 200 | Train loss: 0.005 | Test loss: 0.010\n",
            "Epoch: 220 | Train loss: 0.005 | Test loss: 0.010\n",
            "Epoch: 240 | Train loss: 0.005 | Test loss: 0.010\n",
            "Epoch: 260 | Train loss: 0.005 | Test loss: 0.010\n",
            "Epoch: 280 | Train loss: 0.005 | Test loss: 0.010\n"
          ]
        }
      ],
      "source": [
        "# Training loop\n",
        "\n",
        "\n",
        "# Train model for 300 epochs\n",
        "epochs = 300\n",
        "\n",
        "# Send data to target device\n",
        "X_train_device = X_train.to(device)\n",
        "y_train_device = y_train.to(device)\n",
        "X_test_device = X_test.to(device)\n",
        "y_test_device = y_test.to(device)\n",
        "\n",
        "for epoch in range(epochs):\n",
        "  ### Training\n",
        "\n",
        "  # Put model in train mode\n",
        "  model.train()\n",
        "\n",
        "  # 1. Forward pass\n",
        "  train_preds = model(X_train_device)\n",
        "\n",
        "  # 2. Calculate loss\n",
        "  loss = loss_fn(train_preds, y_train_device)\n",
        "\n",
        "  # 3. Zero gradients\n",
        "  optimizer.zero_grad()\n",
        "\n",
        "  # 4. Backpropagation\n",
        "  loss.backward()\n",
        "\n",
        "  # 5. Step the optimizer\n",
        "  optimizer.step()\n",
        "\n",
        "  ### Perform testing every 20 epochs\n",
        "  if epoch % 20 == 0:\n",
        "\n",
        "    # Put model in evaluation mode and setup inference context \n",
        "      model.eval()\n",
        "      with torch.inference_mode():\n",
        "      # 1. Forward pass\n",
        "        test_preds = model(X_test_device)\n",
        "      # 2. Calculate test loss\n",
        "        test_loss = loss_fn(test_preds, y_test_device)\n",
        "\n",
        "      # Print out what's happening\n",
        "      print(f\"Epoch: {epoch} | Train loss: {loss:.3f} | Test loss: {test_loss:.3f}\")"
      ]
    },
    {
      "cell_type": "markdown",
      "metadata": {
        "id": "x4j4TM18jwa7"
      },
      "source": [
        "## 4. Make predictions with the trained model on the test data.\n",
        "  * Visualize these predictions against the original training and testing data (**note:** you may need to make sure the predictions are *not* on the GPU if you want to use non-CUDA-enabled libraries such as matplotlib to plot)."
      ]
    },
    {
      "cell_type": "code",
      "execution_count": 64,
      "metadata": {
        "id": "bbMPK5Qjjyx_"
      },
      "outputs": [
        {
          "name": "stdout",
          "output_type": "stream",
          "text": [
            "tensor([[1.1362],\n",
            "        [1.1392],\n",
            "        [1.1423],\n",
            "        [1.1453],\n",
            "        [1.1483],\n",
            "        [1.1514],\n",
            "        [1.1544],\n",
            "        [1.1574],\n",
            "        [1.1604],\n",
            "        [1.1635],\n",
            "        [1.1665],\n",
            "        [1.1695],\n",
            "        [1.1726],\n",
            "        [1.1756],\n",
            "        [1.1786],\n",
            "        [1.1817],\n",
            "        [1.1847],\n",
            "        [1.1877],\n",
            "        [1.1907],\n",
            "        [1.1938]], device='cuda:0')\n"
          ]
        }
      ],
      "source": [
        "# Make predictions with the model\n",
        "model.eval()\n",
        "with torch.inference_mode(): \n",
        "    preds = model(X_test.to(device))\n",
        "    print(preds)"
      ]
    },
    {
      "cell_type": "code",
      "execution_count": 65,
      "metadata": {
        "id": "K3BdmQaDpFo8"
      },
      "outputs": [
        {
          "data": {
            "image/png": "[encoded data removed]",
            "text/plain": [
              "<Figure size 1200x700 with 1 Axes>"
            ]
          },
          "metadata": {},
          "output_type": "display_data"
        }
      ],
      "source": [
        "# Plot the predictions (these may need to be on a specific device)\n",
        "plot_data(prediction=preds)"
      ]
    },
    {
      "cell_type": "markdown",
      "metadata": {
        "id": "s2OnlMWKjzX8"
      },
      "source": [
        "## 5. Save your trained model's `state_dict()` to file.\n",
        "  * Create a new instance of your model class you made in 2. and load in the `state_dict()` you just saved to it.\n",
        "  * Perform predictions on your test data with the loaded model and confirm they match the original model predictions from 4."
      ]
    },
    {
      "cell_type": "code",
      "execution_count": 67,
      "metadata": {
        "id": "hgxhgD14qr-i"
      },
      "outputs": [],
      "source": [
        "from pathlib import Path\n",
        "\n",
        "# 1. Create models directory \n",
        "MODEL_PATH = Path(\"models\")\n",
        "\n",
        "# 2. Create model save path \n",
        "MODEL_PATH.mkdir(parents=True, exist_ok=True)\n",
        "# 3. Save the model state dict\n",
        "MODEL_NAME = \"practice_model.pt\"\n",
        "MODEL_SAVE_PATH = MODEL_PATH / MODEL_NAME\n",
        "torch.save(model.state_dict(), MODEL_SAVE_PATH)\n"
      ]
    },
    {
      "cell_type": "code",
      "execution_count": 68,
      "metadata": {
        "id": "P9vTgiLRrJ7T"
      },
      "outputs": [
        {
          "name": "stdout",
          "output_type": "stream",
          "text": [
            "OrderedDict([('weight', tensor([0.3029])), ('bias', tensor([0.8939]))])\n"
          ]
        },
        {
          "name": "stderr",
          "output_type": "stream",
          "text": [
            "C:\\Users\\hatru\\AppData\\Local\\Temp\\ipykernel_19804\\1432074765.py:3: FutureWarning: You are using `torch.load` with `weights_only=False` (the current default value), which uses the default pickle module implicitly. It is possible to construct malicious pickle data which will execute arbitrary code during unpickling (See https://github.com/pytorch/pytorch/blob/main/SECURITY.md#untrusted-models for more details). In a future release, the default value for `weights_only` will be flipped to `True`. This limits the functions that could be executed during unpickling. Arbitrary objects will no longer be allowed to be loaded via this mode unless they are explicitly allowlisted by the user via `torch.serialization.add_safe_globals`. We recommend you start setting `weights_only=True` for any use case where you don't have full control of the loaded file. Please open an issue on GitHub for any issues related to this experimental feature.\n",
            "  new_model.load_state_dict(torch.load(f=MODEL_SAVE_PATH))\n"
          ]
        }
      ],
      "source": [
        "# Create new instance of model and load saved state dict (make sure to put it on the target device)\n",
        "new_model = linearRegressionModel()\n",
        "new_model.load_state_dict(torch.load(f=MODEL_SAVE_PATH))\n",
        "\n",
        "print(new_model.state_dict())"
      ]
    },
    {
      "cell_type": "code",
      "execution_count": 69,
      "metadata": {
        "id": "8UGX3VebrVtI"
      },
      "outputs": [
        {
          "data": {
            "image/png": "[encoded data removed]",
            "text/plain": [
              "<Figure size 1200x700 with 1 Axes>"
            ]
          },
          "metadata": {},
          "output_type": "display_data"
        }
      ],
      "source": [
        "# Make predictions with loaded model and compare them to the previous\n",
        "new_model.eval()\n",
        "with torch.inference_mode(): \n",
        "    preds = new_model(X_test)\n",
        "    plot_data(prediction=preds)"
      ]
    }
  ],
  "metadata": {
    "accelerator": "GPU",
    "colab": {
      "authorship_tag": "ABX9TyNYzatJtFkfUqqdiR6rYwVL",
      "collapsed_sections": [],
      "include_colab_link": true,
      "name": "01_pytorch_workflow_exercises.ipynb",
      "provenance": []
    },
    "kernelspec": {
      "display_name": "myenv",
      "language": "python",
      "name": "python3"
    },
    "language_info": {
      "codemirror_mode": {
        "name": "ipython",
        "version": 3
      },
      "file_extension": ".py",
      "mimetype": "text/x-python",
      "name": "python",
      "nbconvert_exporter": "python",
      "pygments_lexer": "ipython3",
      "version": "3.11.9"
    }
  },
  "nbformat": 4,
  "nbformat_minor": 0
}
